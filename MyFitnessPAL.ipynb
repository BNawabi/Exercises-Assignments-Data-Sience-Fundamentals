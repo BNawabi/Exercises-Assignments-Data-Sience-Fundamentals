{
 "cells": [
  {
   "cell_type": "code",
   "execution_count": 10,
   "metadata": {},
   "outputs": [
    {
     "name": "stdout",
     "output_type": "stream",
     "text": [
      "2435.0\n",
      "120.0\n",
      "315.0\n",
      "235.0\n"
     ]
    }
   ],
   "source": [
    "# Nutrition of a Snicker Bar /100gr \n",
    "\n",
    "calories = 487\n",
    "fat = 24\n",
    "carbs =  63\n",
    "sugar =  47\n",
    "\n",
    "amount = input(\"How many snickerbars have you ate? \")\n",
    "\n",
    "amount_calories = float(amount) * calories\n",
    "print(amount_calories)\n",
    "\n",
    "amount_fat = float(amount) * fat\n",
    "print(amount_fat)\n",
    "\n",
    "amount_carbs = float(amount) * carbs\n",
    "print(amount_carbs)\n",
    "\n",
    "amount_sugar = float(amount) * sugar\n",
    "print(amount_sugar)"
   ]
  }
 ],
 "metadata": {
  "kernelspec": {
   "display_name": "Python 3",
   "language": "python",
   "name": "python3"
  },
  "language_info": {
   "codemirror_mode": {
    "name": "ipython",
    "version": 3
   },
   "file_extension": ".py",
   "mimetype": "text/x-python",
   "name": "python",
   "nbconvert_exporter": "python",
   "pygments_lexer": "ipython3",
   "version": "3.6.5"
  }
 },
 "nbformat": 4,
 "nbformat_minor": 2
}
